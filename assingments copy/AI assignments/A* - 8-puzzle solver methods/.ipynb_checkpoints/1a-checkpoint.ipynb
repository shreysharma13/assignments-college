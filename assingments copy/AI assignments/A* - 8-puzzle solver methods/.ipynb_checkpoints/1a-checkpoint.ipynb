{
 "cells": [
  {
   "cell_type": "code",
   "execution_count": null,
   "id": "b0ae8861",
   "metadata": {},
   "outputs": [],
   "source": [
    "import string\n",
    "import random\n",
    "\n",
    "\n",
    "def getString():\n",
    "    num= '12345678'\n",
    "    ran = ''.join(random.sample(num,8))\n",
    "    return ran\n",
    "\n",
    "def inversion_test(sample):\n",
    "    sum = 0\n",
    "    for i in range(len(sample)):\n",
    "        count = 0\n",
    "        for j in range(i+1,len(sample)):\n",
    "            if sample[i] > sample[j]:\n",
    "                count+=1\n",
    "        sum = sum + count\n",
    "    if sum % 2 == 0:\n",
    "        return True\n",
    "    else:\n",
    "        return False\n",
    "\n",
    "\n",
    "\n",
    "def state_generator():\n",
    "    sample = getString()\n",
    "    sample2 = list(sample)\n",
    "    if inversion_test(sample):\n",
    "        sample2.insert(random.randint(0,7),\"_\")\n",
    "        return sample2\n",
    "    else:\n",
    "        return state_generator()\n",
    "\n",
    "print(state_generator())"
   ]
  }
 ],
 "metadata": {
  "kernelspec": {
   "display_name": "Python 3 (ipykernel)",
   "language": "python",
   "name": "python3"
  },
  "language_info": {
   "codemirror_mode": {
    "name": "ipython",
    "version": 3
   },
   "file_extension": ".py",
   "mimetype": "text/x-python",
   "name": "python",
   "nbconvert_exporter": "python",
   "pygments_lexer": "ipython3",
   "version": "3.9.12"
  }
 },
 "nbformat": 4,
 "nbformat_minor": 5
}
